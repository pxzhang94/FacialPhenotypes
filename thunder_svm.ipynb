{
 "cells": [
  {
   "cell_type": "code",
   "execution_count": 1,
   "metadata": {
    "execution": {
     "iopub.execute_input": "2021-01-11T21:10:46.274505Z",
     "iopub.status.busy": "2021-01-11T21:10:46.274363Z",
     "iopub.status.idle": "2021-01-11T21:10:46.277367Z",
     "shell.execute_reply": "2021-01-11T21:10:46.276988Z",
     "shell.execute_reply.started": "2021-01-11T21:10:46.274489Z"
    }
   },
   "outputs": [],
   "source": [
    "import glob\n",
    "import random\n",
    "import sys\n",
    "from itertools import chain\n",
    "from pathlib import Path\n",
    "\n",
    "import numpy as np\n",
    "import pandas as pd\n",
    "from sklearn import preprocessing\n",
    "from sklearn.metrics import accuracy_score, confusion_matrix\n",
    "\n",
    "from thundersvm import SVC\n",
    "from tqdm import tqdm\n",
    "\n",
    "np.random.seed(0)\n",
    "random.seed(0)"
   ]
  },
  {
   "cell_type": "markdown",
   "metadata": {},
   "source": [
    "### TEST TRAIN INDEX GENERATION FOR FOLDS"
   ]
  },
  {
   "cell_type": "code",
   "execution_count": 2,
   "metadata": {
    "execution": {
     "iopub.execute_input": "2021-01-11T21:10:47.729064Z",
     "iopub.status.busy": "2021-01-11T21:10:47.728928Z",
     "iopub.status.idle": "2021-01-11T21:10:47.731852Z",
     "shell.execute_reply": "2021-01-11T21:10:47.731428Z",
     "shell.execute_reply.started": "2021-01-11T21:10:47.729049Z"
    }
   },
   "outputs": [],
   "source": [
    "attribute_map = [\n",
    "   # {\"Race\": [\"African\", \"Asian\", \"Indian\", \"Caucasian\"]},\n",
    "    {\"skintype\": [\"type1\", \"type2\", \"type3\", \"type4\", \"type5\", \"type6\"]},\n",
    "    {\"eye\": [\"normal\", \"narrow\"]},\n",
    "    {\"haircolor\": [\"red\", \"black\", \"gray\", \"brown\", \"blonde\"]},\n",
    "    {\"hairtype\": [\"straight\", \"wavy\", \"bald\", \"curly\"]},\n",
    "    {\"lips\": [\"small\", \"big\"]},\n",
    "    {\"nose\": [\"wide\", \"narrow\"]},\n",
    "]"
   ]
  },
  {
   "cell_type": "code",
   "execution_count": 3,
   "metadata": {
    "execution": {
     "iopub.execute_input": "2021-01-11T21:10:49.988743Z",
     "iopub.status.busy": "2021-01-11T21:10:49.988587Z",
     "iopub.status.idle": "2021-01-11T21:10:50.338332Z",
     "shell.execute_reply": "2021-01-11T21:10:50.337867Z",
     "shell.execute_reply.started": "2021-01-11T21:10:49.988728Z"
    }
   },
   "outputs": [
    {
     "output_type": "execute_result",
     "data": {
      "text/plain": [
       "                  file Class_ID  Sample_Num Gender   Race skintype  type  \\\n",
       "0  n000001/0001_01.jpg  n000001         424      m  Asian    type4  test   \n",
       "1  n000001/0002_01.jpg  n000001         424      m  Asian    type4  test   \n",
       "2  n000001/0003_01.jpg  n000001         424      m  Asian    type4  test   \n",
       "3  n000001/0004_01.jpg  n000001         424      m  Asian    type4  test   \n",
       "4  n000001/0005_01.jpg  n000001         424      m  Asian    type4  test   \n",
       "\n",
       "    lips  nose hairtype haircolor GenderM     eye  \n",
       "0  small  wide     bald      gray       m  narrow  \n",
       "1  small  wide     bald      gray       m  narrow  \n",
       "2  small  wide     bald      gray       m  narrow  \n",
       "3  small  wide     bald      gray       m  narrow  \n",
       "4  small  wide     bald      gray       m  narrow  "
      ],
      "text/html": "<div>\n<style scoped>\n    .dataframe tbody tr th:only-of-type {\n        vertical-align: middle;\n    }\n\n    .dataframe tbody tr th {\n        vertical-align: top;\n    }\n\n    .dataframe thead th {\n        text-align: right;\n    }\n</style>\n<table border=\"1\" class=\"dataframe\">\n  <thead>\n    <tr style=\"text-align: right;\">\n      <th></th>\n      <th>file</th>\n      <th>Class_ID</th>\n      <th>Sample_Num</th>\n      <th>Gender</th>\n      <th>Race</th>\n      <th>skintype</th>\n      <th>type</th>\n      <th>lips</th>\n      <th>nose</th>\n      <th>hairtype</th>\n      <th>haircolor</th>\n      <th>GenderM</th>\n      <th>eye</th>\n    </tr>\n  </thead>\n  <tbody>\n    <tr>\n      <th>0</th>\n      <td>n000001/0001_01.jpg</td>\n      <td>n000001</td>\n      <td>424</td>\n      <td>m</td>\n      <td>Asian</td>\n      <td>type4</td>\n      <td>test</td>\n      <td>small</td>\n      <td>wide</td>\n      <td>bald</td>\n      <td>gray</td>\n      <td>m</td>\n      <td>narrow</td>\n    </tr>\n    <tr>\n      <th>1</th>\n      <td>n000001/0002_01.jpg</td>\n      <td>n000001</td>\n      <td>424</td>\n      <td>m</td>\n      <td>Asian</td>\n      <td>type4</td>\n      <td>test</td>\n      <td>small</td>\n      <td>wide</td>\n      <td>bald</td>\n      <td>gray</td>\n      <td>m</td>\n      <td>narrow</td>\n    </tr>\n    <tr>\n      <th>2</th>\n      <td>n000001/0003_01.jpg</td>\n      <td>n000001</td>\n      <td>424</td>\n      <td>m</td>\n      <td>Asian</td>\n      <td>type4</td>\n      <td>test</td>\n      <td>small</td>\n      <td>wide</td>\n      <td>bald</td>\n      <td>gray</td>\n      <td>m</td>\n      <td>narrow</td>\n    </tr>\n    <tr>\n      <th>3</th>\n      <td>n000001/0004_01.jpg</td>\n      <td>n000001</td>\n      <td>424</td>\n      <td>m</td>\n      <td>Asian</td>\n      <td>type4</td>\n      <td>test</td>\n      <td>small</td>\n      <td>wide</td>\n      <td>bald</td>\n      <td>gray</td>\n      <td>m</td>\n      <td>narrow</td>\n    </tr>\n    <tr>\n      <th>4</th>\n      <td>n000001/0005_01.jpg</td>\n      <td>n000001</td>\n      <td>424</td>\n      <td>m</td>\n      <td>Asian</td>\n      <td>type4</td>\n      <td>test</td>\n      <td>small</td>\n      <td>wide</td>\n      <td>bald</td>\n      <td>gray</td>\n      <td>m</td>\n      <td>narrow</td>\n    </tr>\n  </tbody>\n</table>\n</div>"
     },
     "metadata": {},
     "execution_count": 3
    }
   ],
   "source": [
    "vgg = pd.read_csv(\"/mnt/HDD/FaceDatasetCenter/metadata/VGGFace2_metadata_FDA.csv\")\n",
    "vgg_test = vgg[vgg.type == \"test\"]\n",
    "vgg_test.head()\n",
    "\n",
    "vgg_image = pd.read_csv(\n",
    "    \"/mnt/HDD/FaceDatasetCenter/metadata/VGGFace2_image_meta_test.csv\"\n",
    ")\n",
    "vgg_image_test = vgg_image[vgg_image.type == \"test\"]\n",
    "vgg_image_test = vgg_image_test.sort_values(by=\"file\")\n",
    "vgg_image_test.head()"
   ]
  },
  {
   "cell_type": "code",
   "execution_count": 4,
   "metadata": {
    "execution": {
     "iopub.execute_input": "2021-01-11T21:10:51.908647Z",
     "iopub.status.busy": "2021-01-11T21:10:51.908516Z",
     "iopub.status.idle": "2021-01-11T21:10:51.911472Z",
     "shell.execute_reply": "2021-01-11T21:10:51.910884Z",
     "shell.execute_reply.started": "2021-01-11T21:10:51.908632Z"
    }
   },
   "outputs": [],
   "source": [
    "NUM_FOLDS = 3\n",
    "TEST_SAMPLE_SIZE = 50\n",
    "folds_folder = Path(\"folds\")\n",
    "folds_folder.mkdir(exist_ok=True)\n"
   ]
  },
  {
   "cell_type": "code",
   "execution_count": 5,
   "metadata": {
    "execution": {
     "iopub.execute_input": "2021-01-11T17:44:35.731292Z",
     "iopub.status.busy": "2021-01-11T17:44:35.731131Z",
     "iopub.status.idle": "2021-01-11T17:44:35.735915Z",
     "shell.execute_reply": "2021-01-11T17:44:35.735367Z",
     "shell.execute_reply.started": "2021-01-11T17:44:35.731265Z"
    }
   },
   "outputs": [],
   "source": [
    "def generate_fold():\n",
    "    \n",
    "    all_folds = []\n",
    "    for fold in range(0, NUM_FOLDS):\n",
    "        print(TEST_SAMPLE_SIZE * NUM_FOLDS)\n",
    "        print(f\"Fold {fold+1}\")\n",
    "        class_folds = {\"train\": [], \"test\": []}\n",
    "        for i, group in vgg_image_test.groupby(\"Class_ID\"):\n",
    "            num_samples = group.shape[0]\n",
    "            test_mask = np.zeros(num_samples, dtype=np.bool)\n",
    "            if TEST_SAMPLE_SIZE * NUM_FOLDS > num_samples:\n",
    "                start = fold * TEST_SAMPLE_SIZE\n",
    "                end = start + TEST_SAMPLE_SIZE\n",
    "                ix = [i % num_samples for i in range(start, end)]\n",
    "            #             print(f\"ClassID: {i}, fold: {fold} - [{ix[0]}:{ix[-1]}]\")\n",
    "            else:\n",
    "                class_fold_size = num_samples // NUM_FOLDS\n",
    "                start = fold * class_fold_size\n",
    "                end = start + class_fold_size\n",
    "                ix = range(start, end)\n",
    "            \n",
    "            test_mask[ix] = True\n",
    "            try:\n",
    "                class_folds[\"test\"].append(\n",
    "                    group[test_mask].sample(n=TEST_SAMPLE_SIZE, random_state=0)\n",
    "                )\n",
    "            except:\n",
    "                import pdb\n",
    "\n",
    "                pdb.set_trace()\n",
    "            class_folds[\"train\"].append(group[~test_mask])\n",
    "        all_folds.append(class_folds)\n",
    "    return all_folds"
   ]
  },
  {
   "cell_type": "code",
   "execution_count": 6,
   "metadata": {
    "execution": {
     "iopub.execute_input": "2021-01-07T23:09:17.230607Z",
     "iopub.status.busy": "2021-01-07T23:09:17.230469Z",
     "iopub.status.idle": "2021-01-07T23:09:19.465818Z",
     "shell.execute_reply": "2021-01-07T23:09:19.465392Z",
     "shell.execute_reply.started": "2021-01-07T23:09:17.230591Z"
    }
   },
   "outputs": [
    {
     "output_type": "stream",
     "name": "stdout",
     "text": [
      "150\n",
      "Fold 1\n",
      "150\n",
      "Fold 2\n",
      "150\n",
      "Fold 3\n",
      "3\n"
     ]
    }
   ],
   "source": [
    "all_folds = generate_fold()\n",
    "print(len(all_folds))\n",
    "for i, fold in enumerate(all_folds):\n",
    "    train = pd.concat(fold[\"train\"])\n",
    "    test = pd.concat(fold[\"test\"])\n",
    "   \n",
    "    train.to_parquet(folds_folder / f\"fold_{i}_train.pq\", compression=\"GZIP\")\n",
    "    test.to_parquet(folds_folder / f\"fold_{i}_test.pq\", compression=\"GZIP\")"
   ]
  },
  {
   "cell_type": "markdown",
   "metadata": {
    "execution": {
     "iopub.execute_input": "2021-01-07T18:19:01.109392Z",
     "iopub.status.busy": "2021-01-07T18:19:01.109253Z",
     "iopub.status.idle": "2021-01-07T18:19:01.111642Z",
     "shell.execute_reply": "2021-01-07T18:19:01.111226Z",
     "shell.execute_reply.started": "2021-01-07T18:19:01.109374Z"
    }
   },
   "source": [
    "### Feature loading"
   ]
  },
  {
   "cell_type": "code",
   "execution_count": 21,
   "metadata": {
    "execution": {
     "iopub.execute_input": "2021-01-11T17:45:28.448613Z",
     "iopub.status.busy": "2021-01-11T17:45:28.447945Z",
     "iopub.status.idle": "2021-01-11T17:45:29.798282Z",
     "shell.execute_reply": "2021-01-11T17:45:29.797920Z",
     "shell.execute_reply.started": "2021-01-11T17:45:28.448505Z"
    }
   },
   "outputs": [],
   "source": [
    "features = np.load(\"features/vggface2_test_features.npy\",allow_pickle=True)\n",
    "path_arr = np.load(\"features/vggface2_test_paths.npy\",allow_pickle=True)"
   ]
  },
  {
   "cell_type": "code",
   "execution_count": 22,
   "metadata": {
    "execution": {
     "iopub.execute_input": "2021-01-11T17:46:31.360680Z",
     "iopub.status.busy": "2021-01-11T17:46:31.360545Z",
     "iopub.status.idle": "2021-01-11T17:46:32.373588Z",
     "shell.execute_reply": "2021-01-11T17:46:32.373173Z",
     "shell.execute_reply.started": "2021-01-11T17:46:31.360665Z"
    }
   },
   "outputs": [
    {
     "output_type": "execute_result",
     "data": {
      "text/plain": [
       "             full_path                 file  y_test Class_ID  Sample_Num  \\\n",
       "0  n000001/0001_01.jpg  n000001/0001_01.jpg       0  n000001         424   \n",
       "1  n000001/0002_01.jpg  n000001/0002_01.jpg       0  n000001         424   \n",
       "2  n000001/0003_01.jpg  n000001/0003_01.jpg       0  n000001         424   \n",
       "3  n000001/0004_01.jpg  n000001/0004_01.jpg       0  n000001         424   \n",
       "4  n000001/0005_01.jpg  n000001/0005_01.jpg       0  n000001         424   \n",
       "\n",
       "  Gender   Race skintype  type   lips  nose hairtype haircolor GenderM     eye  \n",
       "0      m  Asian    type4  test  small  wide     bald      gray       m  narrow  \n",
       "1      m  Asian    type4  test  small  wide     bald      gray       m  narrow  \n",
       "2      m  Asian    type4  test  small  wide     bald      gray       m  narrow  \n",
       "3      m  Asian    type4  test  small  wide     bald      gray       m  narrow  \n",
       "4      m  Asian    type4  test  small  wide     bald      gray       m  narrow  "
      ],
      "text/html": "<div>\n<style scoped>\n    .dataframe tbody tr th:only-of-type {\n        vertical-align: middle;\n    }\n\n    .dataframe tbody tr th {\n        vertical-align: top;\n    }\n\n    .dataframe thead th {\n        text-align: right;\n    }\n</style>\n<table border=\"1\" class=\"dataframe\">\n  <thead>\n    <tr style=\"text-align: right;\">\n      <th></th>\n      <th>full_path</th>\n      <th>file</th>\n      <th>y_test</th>\n      <th>Class_ID</th>\n      <th>Sample_Num</th>\n      <th>Gender</th>\n      <th>Race</th>\n      <th>skintype</th>\n      <th>type</th>\n      <th>lips</th>\n      <th>nose</th>\n      <th>hairtype</th>\n      <th>haircolor</th>\n      <th>GenderM</th>\n      <th>eye</th>\n    </tr>\n  </thead>\n  <tbody>\n    <tr>\n      <th>0</th>\n      <td>n000001/0001_01.jpg</td>\n      <td>n000001/0001_01.jpg</td>\n      <td>0</td>\n      <td>n000001</td>\n      <td>424</td>\n      <td>m</td>\n      <td>Asian</td>\n      <td>type4</td>\n      <td>test</td>\n      <td>small</td>\n      <td>wide</td>\n      <td>bald</td>\n      <td>gray</td>\n      <td>m</td>\n      <td>narrow</td>\n    </tr>\n    <tr>\n      <th>1</th>\n      <td>n000001/0002_01.jpg</td>\n      <td>n000001/0002_01.jpg</td>\n      <td>0</td>\n      <td>n000001</td>\n      <td>424</td>\n      <td>m</td>\n      <td>Asian</td>\n      <td>type4</td>\n      <td>test</td>\n      <td>small</td>\n      <td>wide</td>\n      <td>bald</td>\n      <td>gray</td>\n      <td>m</td>\n      <td>narrow</td>\n    </tr>\n    <tr>\n      <th>2</th>\n      <td>n000001/0003_01.jpg</td>\n      <td>n000001/0003_01.jpg</td>\n      <td>0</td>\n      <td>n000001</td>\n      <td>424</td>\n      <td>m</td>\n      <td>Asian</td>\n      <td>type4</td>\n      <td>test</td>\n      <td>small</td>\n      <td>wide</td>\n      <td>bald</td>\n      <td>gray</td>\n      <td>m</td>\n      <td>narrow</td>\n    </tr>\n    <tr>\n      <th>3</th>\n      <td>n000001/0004_01.jpg</td>\n      <td>n000001/0004_01.jpg</td>\n      <td>0</td>\n      <td>n000001</td>\n      <td>424</td>\n      <td>m</td>\n      <td>Asian</td>\n      <td>type4</td>\n      <td>test</td>\n      <td>small</td>\n      <td>wide</td>\n      <td>bald</td>\n      <td>gray</td>\n      <td>m</td>\n      <td>narrow</td>\n    </tr>\n    <tr>\n      <th>4</th>\n      <td>n000001/0005_01.jpg</td>\n      <td>n000001/0005_01.jpg</td>\n      <td>0</td>\n      <td>n000001</td>\n      <td>424</td>\n      <td>m</td>\n      <td>Asian</td>\n      <td>type4</td>\n      <td>test</td>\n      <td>small</td>\n      <td>wide</td>\n      <td>bald</td>\n      <td>gray</td>\n      <td>m</td>\n      <td>narrow</td>\n    </tr>\n  </tbody>\n</table>\n</div>"
     },
     "metadata": {},
     "execution_count": 22
    }
   ],
   "source": [
    "meta = pd.DataFrame(path_arr, columns=[\"full_path\"])\n",
    "meta[\"file\"] = meta.full_path.apply(lambda x: \"/\".join(Path(x).parts[-2:]))\n",
    "labels = list(map(lambda x: str(x).split(\"/\")[-2], path_arr))\n",
    "le = preprocessing.LabelEncoder()\n",
    "labels = le.fit_transform(labels)\n",
    "meta[\"y_test\"] = labels\n",
    "meta = meta.merge(vgg_image_test,how='left',on='file')\n",
    "meta.head()"
   ]
  },
  {
   "cell_type": "code",
   "execution_count": 23,
   "metadata": {
    "execution": {
     "iopub.execute_input": "2021-01-11T17:47:02.700794Z",
     "iopub.status.busy": "2021-01-11T17:47:02.700659Z",
     "iopub.status.idle": "2021-01-11T17:47:02.705642Z",
     "shell.execute_reply": "2021-01-11T17:47:02.705137Z",
     "shell.execute_reply.started": "2021-01-11T17:47:02.700780Z"
    }
   },
   "outputs": [],
   "source": [
    "#Train CODE\n",
    "def train(X,y):  \n",
    "    all_predictions = []\n",
    "    for i,fold in enumerate(range(0, NUM_FOLDS)):\n",
    "        train_ixs = pd.read_parquet(folds_folder / f\"fold_{i}_100_train.pq\")\n",
    "        test_ixs = pd.read_parquet(folds_folder / f\"fold_{i}_100_test.pq\")\n",
    "        print(folds_folder / f\"fold_{i}_train.pq\")\n",
    "        print(test_ixs.shape)\n",
    "        print(meta[meta.file.isin(test_ixs.file)].index.shape)\n",
    "        test_index = meta[meta.file.isin(test_ixs.file)].index\n",
    "        train_index = meta[meta.file.isin(train_ixs.file)].index\n",
    "        X_train, X_test = X[train_index], X[test_index]\n",
    "        y_train, y_test = y[train_index], y[test_index]\n",
    "\n",
    "        print(X_test.shape,y_test.shape)\n",
    "        print('SVM Training...')\n",
    "        svm_model_linear = SVC(kernel=\"linear\", C=1).fit(X_train, y_train)\n",
    "        print(\"Starting prediction (The computer can be unresponsive during the prediction).\")\n",
    "\n",
    "        TEST_BATCH_SIZE = 1000\n",
    "        preds = []\n",
    "        ys=[]\n",
    "        with tqdm(total=X_test.shape[0], file=sys.stdout) as pbar:\n",
    "            for i in range(0, X_test.shape[0], TEST_BATCH_SIZE):\n",
    "                X_test_batch = X_test[i : i + TEST_BATCH_SIZE]\n",
    "                pred = svm_model_linear.predict(X_test_batch)\n",
    "                preds.append(pred)\n",
    "                # update tqdm\n",
    "                pbar.set_description(\"Processed: %d\" % (1 + i))\n",
    "                pbar.update(TEST_BATCH_SIZE)\n",
    "        all_predictions.append(preds)c\n",
    "    return all_predictions\n",
    "        "
   ]
  },
  {
   "cell_type": "code",
   "execution_count": 10,
   "metadata": {
    "execution": {
     "iopub.execute_input": "2021-01-11T17:47:03.626277Z",
     "iopub.status.busy": "2021-01-11T17:47:03.626144Z",
     "iopub.status.idle": "2021-01-11T19:01:25.638802Z",
     "shell.execute_reply": "2021-01-11T19:01:25.638389Z",
     "shell.execute_reply.started": "2021-01-11T17:47:03.626262Z"
    }
   },
   "outputs": [
    {
     "output_type": "stream",
     "name": "stdout",
     "text": [
      "folds/fold_0_train.pq\n",
      "                   file Class_ID  Sample_Num Gender   Race skintype  type  \\\n",
      "45  n000001/0046_01.jpg  n000001         424      m  Asian    type4  test   \n",
      "60  n000001/0061_01.jpg  n000001         424      m  Asian    type4  test   \n",
      "7   n000001/0008_01.jpg  n000001         424      m  Asian    type4  test   \n",
      "51  n000001/0052_01.jpg  n000001         424      m  Asian    type4  test   \n",
      "66  n000001/0067_01.jpg  n000001         424      m  Asian    type4  test   \n",
      "\n",
      "     lips  nose hairtype haircolor GenderM     eye  \n",
      "45  small  wide     bald      gray       m  narrow  \n",
      "60  small  wide     bald      gray       m  narrow  \n",
      "7   small  wide     bald      gray       m  narrow  \n",
      "51  small  wide     bald      gray       m  narrow  \n",
      "66  small  wide     bald      gray       m  narrow  \n",
      "(25000,)\n",
      "(25000, 512) (25000,)\n",
      "SVM Training...\n",
      "Starting prediction (The computer can be unresponsive during the prediction).\n",
      "Processed: 24001: 100%|██████████| 25000/25000 [09:26<00:00, 44.09it/s]\n",
      "folds/fold_1_train.pq\n",
      "                    file Class_ID  Sample_Num Gender   Race skintype  type  \\\n",
      "186  n000001/0181_01.jpg  n000001         424      m  Asian    type4  test   \n",
      "201  n000001/0196_01.jpg  n000001         424      m  Asian    type4  test   \n",
      "148  n000001/0140_02.jpg  n000001         424      m  Asian    type4  test   \n",
      "192  n000001/0187_01.jpg  n000001         424      m  Asian    type4  test   \n",
      "207  n000001/0202_01.jpg  n000001         424      m  Asian    type4  test   \n",
      "\n",
      "      lips  nose hairtype haircolor GenderM     eye  \n",
      "186  small  wide     bald      gray       m  narrow  \n",
      "201  small  wide     bald      gray       m  narrow  \n",
      "148  small  wide     bald      gray       m  narrow  \n",
      "192  small  wide     bald      gray       m  narrow  \n",
      "207  small  wide     bald      gray       m  narrow  \n",
      "(25000,)\n",
      "(25000, 512) (25000,)\n",
      "SVM Training...\n",
      "Starting prediction (The computer can be unresponsive during the prediction).\n",
      "Processed: 24001: 100%|██████████| 25000/25000 [08:16<00:00, 50.35it/s]\n",
      "folds/fold_2_train.pq\n",
      "                    file Class_ID  Sample_Num Gender   Race skintype  type  \\\n",
      "327  n000001/0329_01.jpg  n000001         424      m  Asian    type4  test   \n",
      "342  n000001/0350_01.jpg  n000001         424      m  Asian    type4  test   \n",
      "289  n000001/0287_01.jpg  n000001         424      m  Asian    type4  test   \n",
      "333  n000001/0337_01.jpg  n000001         424      m  Asian    type4  test   \n",
      "348  n000001/0360_01.jpg  n000001         424      m  Asian    type4  test   \n",
      "\n",
      "      lips  nose hairtype haircolor GenderM     eye  \n",
      "327  small  wide     bald      gray       m  narrow  \n",
      "342  small  wide     bald      gray       m  narrow  \n",
      "289  small  wide     bald      gray       m  narrow  \n",
      "333  small  wide     bald      gray       m  narrow  \n",
      "348  small  wide     bald      gray       m  narrow  \n",
      "(25000,)\n",
      "(25000, 512) (25000,)\n",
      "SVM Training...\n",
      "Starting prediction (The computer can be unresponsive during the prediction).\n",
      "Processed: 24001: 100%|██████████| 25000/25000 [09:02<00:00, 46.11it/s]\n"
     ]
    }
   ],
   "source": [
    "X = np.asarray(features, dtype=np.float32)\n",
    "y = labels\n",
    "pred_list = train(X,y)"
   ]
  },
  {
   "cell_type": "code",
   "execution_count": null,
   "metadata": {},
   "outputs": [],
   "source": []
  },
  {
   "cell_type": "code",
   "execution_count": 13,
   "metadata": {
    "execution": {
     "iopub.execute_input": "2021-01-11T20:47:38.371278Z",
     "iopub.status.busy": "2021-01-11T20:47:38.371143Z",
     "iopub.status.idle": "2021-01-11T20:47:38.374595Z",
     "shell.execute_reply": "2021-01-11T20:47:38.374170Z",
     "shell.execute_reply.started": "2021-01-11T20:47:38.371263Z"
    }
   },
   "outputs": [
    {
     "output_type": "execute_result",
     "data": {
      "text/plain": [
       "(3, 25000)"
      ]
     },
     "metadata": {},
     "execution_count": 13
    }
   ],
   "source": [
    "ap = np.asarray(pred_list)\n",
    "ap = ap.reshape(ap.shape[0],ap.shape[1]*ap.shape[2])\n",
    "ap.shape"
   ]
  },
  {
   "cell_type": "code",
   "execution_count": 20,
   "metadata": {},
   "outputs": [
    {
     "output_type": "stream",
     "name": "stdout",
     "text": [
      "(169396, 15) Int64Index([    45,     60,      7,     51,     66,     27,     71,     54,\n",
      "               123,      8,\n",
      "            ...\n",
      "            169205, 169222, 169163, 169194, 169228, 169176, 169215, 169181,\n",
      "            169191, 169186],\n",
      "           dtype='int64', length=25000)\n",
      "(25000, 15)\n",
      "Overall Accuracy: 0.98764\n",
      "Group initilization!\n",
      "skintype type1 : 0.96625 (800, 16)\n",
      "skintype type2 : 0.9903061224489796 (9800, 16)\n",
      "skintype type3 : 0.9867289719626168 (10700, 16)\n",
      "skintype type4 : 0.9870833333333333 (2400, 16)\n",
      "skintype type5 : 0.9888888888888889 (900, 16)\n",
      "skintype type6 : 0.99 (400, 16)\n",
      "eye normal : 0.9878202247191011 (22250, 16)\n",
      "eye narrow : 0.9861818181818182 (2750, 16)\n",
      "haircolor red : 0.99 (200, 16)\n",
      "haircolor black : 0.9899328859060402 (7450, 16)\n",
      "haircolor gray : 0.993015873015873 (3150, 16)\n",
      "haircolor brown : 0.9846783625730994 (8550, 16)\n",
      "haircolor blonde : 0.9860176991150442 (5650, 16)\n",
      "hairtype straight : 0.9875728155339806 (15450, 16)\n",
      "hairtype wavy : 0.9869677419354839 (7750, 16)\n",
      "hairtype bald : 0.9942857142857143 (700, 16)\n",
      "hairtype curly : 0.9890909090909091 (1100, 16)\n",
      "lips small : 0.9887603305785124 (18150, 16)\n",
      "lips big : 0.9846715328467154 (6850, 16)\n",
      "nose wide : 0.9856880733944954 (10900, 16)\n",
      "nose narrow : 0.9891489361702127 (14100, 16)\n",
      "(169396, 15) Int64Index([   186,    201,    148,    192,    207,    168,    212,    195,\n",
      "               264,    149,\n",
      "            ...\n",
      "            169283, 169300, 169241, 169272, 169306, 169254, 169293, 169259,\n",
      "            169269, 169264],\n",
      "           dtype='int64', length=25000)\n",
      "(25000, 15)\n",
      "Overall Accuracy: 0.97452\n",
      "Group initilization!\n",
      "skintype type1 : 0.9575 (800, 16)\n",
      "skintype type2 : 0.9739795918367347 (9800, 16)\n",
      "skintype type3 : 0.9754205607476636 (10700, 16)\n",
      "skintype type4 : 0.9770833333333333 (2400, 16)\n",
      "skintype type5 : 0.9855555555555555 (900, 16)\n",
      "skintype type6 : 0.9575 (400, 16)\n",
      "eye normal : 0.9756404494382023 (22250, 16)\n",
      "eye narrow : 0.9654545454545455 (2750, 16)\n",
      "haircolor red : 0.985 (200, 16)\n",
      "haircolor black : 0.9754362416107383 (7450, 16)\n",
      "haircolor gray : 0.9901587301587301 (3150, 16)\n",
      "haircolor brown : 0.972280701754386 (8550, 16)\n",
      "haircolor blonde : 0.9676106194690266 (5650, 16)\n",
      "hairtype straight : 0.9766990291262136 (15450, 16)\n",
      "hairtype wavy : 0.9690322580645161 (7750, 16)\n",
      "hairtype bald : 0.99 (700, 16)\n",
      "hairtype curly : 0.9727272727272728 (1100, 16)\n",
      "lips small : 0.9775757575757575 (18150, 16)\n",
      "lips big : 0.9664233576642336 (6850, 16)\n",
      "nose wide : 0.9744954128440367 (10900, 16)\n",
      "nose narrow : 0.9745390070921985 (14100, 16)\n",
      "(169396, 15) Int64Index([   327,    342,    289,    333,    348,    309,    353,    336,\n",
      "               405,    290,\n",
      "            ...\n",
      "            169361, 169378, 169319, 169350, 169384, 169332, 169371, 169337,\n",
      "            169347, 169342],\n",
      "           dtype='int64', length=25000)\n",
      "(25000, 15)\n",
      "Overall Accuracy: 0.90724\n",
      "Group initilization!\n",
      "skintype type1 : 0.86125 (800, 16)\n",
      "skintype type2 : 0.9057142857142857 (9800, 16)\n",
      "skintype type3 : 0.9071028037383178 (10700, 16)\n",
      "skintype type4 : 0.92375 (2400, 16)\n",
      "skintype type5 : 0.9111111111111111 (900, 16)\n",
      "skintype type6 : 0.9325 (400, 16)\n",
      "eye normal : 0.9074157303370787 (22250, 16)\n",
      "eye narrow : 0.9058181818181819 (2750, 16)\n",
      "haircolor red : 0.91 (200, 16)\n",
      "haircolor black : 0.9139597315436242 (7450, 16)\n",
      "haircolor gray : 0.9206349206349206 (3150, 16)\n",
      "haircolor brown : 0.9042105263157895 (8550, 16)\n",
      "haircolor blonde : 0.8953982300884956 (5650, 16)\n",
      "hairtype straight : 0.9121682847896441 (15450, 16)\n",
      "hairtype wavy : 0.8981935483870968 (7750, 16)\n",
      "hairtype bald : 0.9285714285714286 (700, 16)\n",
      "hairtype curly : 0.8881818181818182 (1100, 16)\n",
      "lips small : 0.9126721763085399 (18150, 16)\n",
      "lips big : 0.8928467153284672 (6850, 16)\n",
      "nose wide : 0.9067889908256881 (10900, 16)\n",
      "nose narrow : 0.9075886524822695 (14100, 16)\n"
     ]
    }
   ],
   "source": [
    "# TEST CODE\n",
    "result_dic = []\n",
    "for i, fold in enumerate(range(0, 3)):\n",
    "    train_ixs = pd.read_parquet(folds_folder / f\"fold_{i}_train.pq\")\n",
    "    test_ixs = pd.read_parquet(folds_folder / f\"fold_{i}_test.pq\")\n",
    "\n",
    "    print(meta.shape,test_ixs.index)\n",
    "    meta_test = meta[meta.file.isin(test_ixs.file)]\n",
    "    print(meta_test.shape)\n",
    "    test_index = meta_test.index\n",
    "    y_test = y[test_index]\n",
    " \n",
    "    meta_test[\"y_pred\"] = ap[i]\n",
    "    print(\"Overall Accuracy:\", accuracy_score(meta_test[\"y_test\"], meta_test[\"y_pred\"]))\n",
    "    \n",
    "    print(\"Group initilization!\")\n",
    "    for attr in attribute_map:\n",
    "        # for one value of one attribute\n",
    "        for key, value in attr.items():\n",
    "            for val in value:\n",
    "                subgroup = meta_test[meta_test[key] == val]\n",
    "              \n",
    "                score= accuracy_score(subgroup[\"y_test\"], subgroup[\"y_pred\"])\n",
    "                print(\n",
    "                    key,\n",
    "                    val,\n",
    "                    \":\",\n",
    "                    score,\n",
    "                    subgroup.shape,\n",
    "                    )\n",
    "                    \n",
    "                \n",
    "                result_dic.append([key,val,score,subgroup.shape[0]])"
   ]
  },
  {
   "cell_type": "code",
   "execution_count": 15,
   "metadata": {
    "execution": {
     "iopub.execute_input": "2021-01-11T21:05:38.690949Z",
     "iopub.status.busy": "2021-01-11T21:05:38.690800Z",
     "iopub.status.idle": "2021-01-11T21:05:38.693754Z",
     "shell.execute_reply": "2021-01-11T21:05:38.693318Z",
     "shell.execute_reply.started": "2021-01-11T21:05:38.690932Z"
    }
   },
   "outputs": [
    {
     "output_type": "execute_result",
     "data": {
      "text/plain": [
       "(14100, 16)"
      ]
     },
     "metadata": {},
     "execution_count": 15
    }
   ],
   "source": [
    "subgroup.shape"
   ]
  },
  {
   "cell_type": "code",
   "execution_count": 16,
   "metadata": {
    "execution": {
     "iopub.execute_input": "2021-01-11T21:25:40.462622Z",
     "iopub.status.busy": "2021-01-11T21:25:40.462488Z",
     "iopub.status.idle": "2021-01-11T21:25:40.478739Z",
     "shell.execute_reply": "2021-01-11T21:25:40.478174Z",
     "shell.execute_reply.started": "2021-01-11T21:25:40.462607Z"
    }
   },
   "outputs": [
    {
     "output_type": "stream",
     "name": "stdout",
     "text": [
      "total size 25000\n"
     ]
    },
    {
     "output_type": "execute_result",
     "data": {
      "text/plain": [
       "       attribute_name       acc   size  attribute  Ratio\n",
       "0          eye_narrow  0.952485   2750        eye  0.110\n",
       "1          eye_normal  0.956959  22250        eye  0.890\n",
       "2     haircolor_black  0.959776   7450  haircolor  0.298\n",
       "3    haircolor_blonde  0.949676   5650  haircolor  0.226\n",
       "4     haircolor_brown  0.953723   8550  haircolor  0.342\n",
       "5      haircolor_gray  0.967937   3150  haircolor  0.126\n",
       "6       haircolor_red  0.961667    200  haircolor  0.008\n",
       "7       hairtype_bald  0.970952    700   hairtype  0.028\n",
       "8      hairtype_curly  0.950000   1100   hairtype  0.044\n",
       "9   hairtype_straight  0.958813  15450   hairtype  0.618\n",
       "10      hairtype_wavy  0.951398   7750   hairtype  0.310\n",
       "11           lips_big  0.947981   6850       lips  0.274\n",
       "12         lips_small  0.959669  18150       lips  0.726\n",
       "13        nose_narrow  0.957092  14100       nose  0.564\n",
       "14          nose_wide  0.955657  10900       nose  0.436\n",
       "15     skintype_type1  0.928333    800   skintype  0.032\n",
       "16     skintype_type2  0.956667   9800   skintype  0.392\n",
       "17     skintype_type3  0.956417  10700   skintype  0.428\n",
       "18     skintype_type4  0.962639   2400   skintype  0.096\n",
       "19     skintype_type5  0.961852    900   skintype  0.036\n",
       "20     skintype_type6  0.960000    400   skintype  0.016"
      ],
      "text/html": "<div>\n<style scoped>\n    .dataframe tbody tr th:only-of-type {\n        vertical-align: middle;\n    }\n\n    .dataframe tbody tr th {\n        vertical-align: top;\n    }\n\n    .dataframe thead th {\n        text-align: right;\n    }\n</style>\n<table border=\"1\" class=\"dataframe\">\n  <thead>\n    <tr style=\"text-align: right;\">\n      <th></th>\n      <th>attribute_name</th>\n      <th>acc</th>\n      <th>size</th>\n      <th>attribute</th>\n      <th>Ratio</th>\n    </tr>\n  </thead>\n  <tbody>\n    <tr>\n      <th>0</th>\n      <td>eye_narrow</td>\n      <td>0.952485</td>\n      <td>2750</td>\n      <td>eye</td>\n      <td>0.110</td>\n    </tr>\n    <tr>\n      <th>1</th>\n      <td>eye_normal</td>\n      <td>0.956959</td>\n      <td>22250</td>\n      <td>eye</td>\n      <td>0.890</td>\n    </tr>\n    <tr>\n      <th>2</th>\n      <td>haircolor_black</td>\n      <td>0.959776</td>\n      <td>7450</td>\n      <td>haircolor</td>\n      <td>0.298</td>\n    </tr>\n    <tr>\n      <th>3</th>\n      <td>haircolor_blonde</td>\n      <td>0.949676</td>\n      <td>5650</td>\n      <td>haircolor</td>\n      <td>0.226</td>\n    </tr>\n    <tr>\n      <th>4</th>\n      <td>haircolor_brown</td>\n      <td>0.953723</td>\n      <td>8550</td>\n      <td>haircolor</td>\n      <td>0.342</td>\n    </tr>\n    <tr>\n      <th>5</th>\n      <td>haircolor_gray</td>\n      <td>0.967937</td>\n      <td>3150</td>\n      <td>haircolor</td>\n      <td>0.126</td>\n    </tr>\n    <tr>\n      <th>6</th>\n      <td>haircolor_red</td>\n      <td>0.961667</td>\n      <td>200</td>\n      <td>haircolor</td>\n      <td>0.008</td>\n    </tr>\n    <tr>\n      <th>7</th>\n      <td>hairtype_bald</td>\n      <td>0.970952</td>\n      <td>700</td>\n      <td>hairtype</td>\n      <td>0.028</td>\n    </tr>\n    <tr>\n      <th>8</th>\n      <td>hairtype_curly</td>\n      <td>0.950000</td>\n      <td>1100</td>\n      <td>hairtype</td>\n      <td>0.044</td>\n    </tr>\n    <tr>\n      <th>9</th>\n      <td>hairtype_straight</td>\n      <td>0.958813</td>\n      <td>15450</td>\n      <td>hairtype</td>\n      <td>0.618</td>\n    </tr>\n    <tr>\n      <th>10</th>\n      <td>hairtype_wavy</td>\n      <td>0.951398</td>\n      <td>7750</td>\n      <td>hairtype</td>\n      <td>0.310</td>\n    </tr>\n    <tr>\n      <th>11</th>\n      <td>lips_big</td>\n      <td>0.947981</td>\n      <td>6850</td>\n      <td>lips</td>\n      <td>0.274</td>\n    </tr>\n    <tr>\n      <th>12</th>\n      <td>lips_small</td>\n      <td>0.959669</td>\n      <td>18150</td>\n      <td>lips</td>\n      <td>0.726</td>\n    </tr>\n    <tr>\n      <th>13</th>\n      <td>nose_narrow</td>\n      <td>0.957092</td>\n      <td>14100</td>\n      <td>nose</td>\n      <td>0.564</td>\n    </tr>\n    <tr>\n      <th>14</th>\n      <td>nose_wide</td>\n      <td>0.955657</td>\n      <td>10900</td>\n      <td>nose</td>\n      <td>0.436</td>\n    </tr>\n    <tr>\n      <th>15</th>\n      <td>skintype_type1</td>\n      <td>0.928333</td>\n      <td>800</td>\n      <td>skintype</td>\n      <td>0.032</td>\n    </tr>\n    <tr>\n      <th>16</th>\n      <td>skintype_type2</td>\n      <td>0.956667</td>\n      <td>9800</td>\n      <td>skintype</td>\n      <td>0.392</td>\n    </tr>\n    <tr>\n      <th>17</th>\n      <td>skintype_type3</td>\n      <td>0.956417</td>\n      <td>10700</td>\n      <td>skintype</td>\n      <td>0.428</td>\n    </tr>\n    <tr>\n      <th>18</th>\n      <td>skintype_type4</td>\n      <td>0.962639</td>\n      <td>2400</td>\n      <td>skintype</td>\n      <td>0.096</td>\n    </tr>\n    <tr>\n      <th>19</th>\n      <td>skintype_type5</td>\n      <td>0.961852</td>\n      <td>900</td>\n      <td>skintype</td>\n      <td>0.036</td>\n    </tr>\n    <tr>\n      <th>20</th>\n      <td>skintype_type6</td>\n      <td>0.960000</td>\n      <td>400</td>\n      <td>skintype</td>\n      <td>0.016</td>\n    </tr>\n  </tbody>\n</table>\n</div>"
     },
     "metadata": {},
     "execution_count": 16
    }
   ],
   "source": [
    "results = pd.DataFrame(result_dic,columns=['feature','category','acc','size'])\n",
    "results[\"attribute_name\"] = results[\"feature\"] +'_'+ results[\"category\"]\n",
    "results = results.groupby('attribute_name').mean().sort_values(by='attribute_name')\n",
    "\n",
    "results = results.reset_index()\n",
    "results['attribute'] = results.attribute_name.apply(lambda x:x.split('_')[0])\n",
    "\n",
    "total_size = results.groupby('attribute').sum()['size'][0]\n",
    "print('total size',total_size)\n",
    "results['Ratio']=results['size'].apply(lambda x: x/total_size)\n",
    "results"
   ]
  },
  {
   "cell_type": "code",
   "execution_count": 29,
   "metadata": {},
   "outputs": [],
   "source": [
    "results.to_csv('face_identifiacation_attribute_based_results.csv',index=False)"
   ]
  },
  {
   "cell_type": "code",
   "execution_count": 54,
   "metadata": {
    "execution": {
     "iopub.execute_input": "2021-01-11T21:35:00.284058Z",
     "iopub.status.busy": "2021-01-11T21:35:00.283381Z",
     "iopub.status.idle": "2021-01-11T21:35:00.295877Z",
     "shell.execute_reply": "2021-01-11T21:35:00.294365Z",
     "shell.execute_reply.started": "2021-01-11T21:35:00.283977Z"
    }
   },
   "outputs": [
    {
     "output_type": "stream",
     "name": "stdout",
     "text": [
      "std: 0.8587194162970204\nbias: 2.4672131147540934\n"
     ]
    }
   ],
   "source": [
    "print(\"std:\", np.std(results.acc.values,ddof=1) * 100)\n",
    "print(\"bias:\", (1-results.acc.values.min()) / (1-results.acc.values.max()))\n"
   ]
  },
  {
   "cell_type": "code",
   "execution_count": 55,
   "metadata": {
    "execution": {
     "iopub.execute_input": "2021-01-11T21:35:17.781150Z",
     "iopub.status.busy": "2021-01-11T21:35:17.780470Z",
     "iopub.status.idle": "2021-01-11T21:35:17.786736Z",
     "shell.execute_reply": "2021-01-11T21:35:17.786373Z",
     "shell.execute_reply.started": "2021-01-11T21:35:17.781067Z"
    }
   },
   "outputs": [
    {
     "output_type": "execute_result",
     "data": {
      "text/plain": [
       "2.4672131147540934"
      ]
     },
     "metadata": {},
     "execution_count": 55
    }
   ],
   "source": [
    "(1.0-results.acc.values.min())/(1-results.acc.values.max())"
   ]
  },
  {
   "cell_type": "code",
   "execution_count": 56,
   "metadata": {
    "execution": {
     "iopub.execute_input": "2021-01-11T21:35:31.900863Z",
     "iopub.status.busy": "2021-01-11T21:35:31.900203Z",
     "iopub.status.idle": "2021-01-11T21:35:31.906422Z",
     "shell.execute_reply": "2021-01-11T21:35:31.905957Z",
     "shell.execute_reply.started": "2021-01-11T21:35:31.900783Z"
    }
   },
   "outputs": [
    {
     "output_type": "execute_result",
     "data": {
      "text/plain": [
       "0.0290476190476191"
      ]
     },
     "metadata": {},
     "execution_count": 56
    }
   ],
   "source": [
    "1-results.acc.values.max()"
   ]
  },
  {
   "cell_type": "code",
   "execution_count": 49,
   "metadata": {
    "execution": {
     "iopub.execute_input": "2021-01-11T21:35:49.770627Z",
     "iopub.status.busy": "2021-01-11T21:35:49.770445Z",
     "iopub.status.idle": "2021-01-11T21:35:49.773704Z",
     "shell.execute_reply": "2021-01-11T21:35:49.773248Z",
     "shell.execute_reply.started": "2021-01-11T21:35:49.770598Z"
    }
   },
   "outputs": [
    {
     "output_type": "execute_result",
     "data": {
      "text/plain": [
       "       attribute_name       acc   size  attribute  Ratio\n",
       "0          eye_narrow  0.952485   2750        eye  0.110\n",
       "1          eye_normal  0.956959  22250        eye  0.890\n",
       "2     haircolor_black  0.959776   7450  haircolor  0.298\n",
       "3    haircolor_blonde  0.949676   5650  haircolor  0.226\n",
       "4     haircolor_brown  0.953723   8550  haircolor  0.342\n",
       "5      haircolor_gray  0.967937   3150  haircolor  0.126\n",
       "6       haircolor_red  0.961667    200  haircolor  0.008\n",
       "7       hairtype_bald  0.970952    700   hairtype  0.028\n",
       "8      hairtype_curly  0.950000   1100   hairtype  0.044\n",
       "9   hairtype_straight  0.958813  15450   hairtype  0.618\n",
       "10      hairtype_wavy  0.951398   7750   hairtype  0.310\n",
       "11           lips_big  0.947981   6850       lips  0.274\n",
       "12         lips_small  0.959669  18150       lips  0.726\n",
       "13        nose_narrow  0.957092  14100       nose  0.564\n",
       "14          nose_wide  0.955657  10900       nose  0.436\n",
       "15     skintype_type1  0.928333    800   skintype  0.032\n",
       "16     skintype_type2  0.956667   9800   skintype  0.392\n",
       "17     skintype_type3  0.956417  10700   skintype  0.428\n",
       "18     skintype_type4  0.962639   2400   skintype  0.096\n",
       "19     skintype_type5  0.961852    900   skintype  0.036\n",
       "20     skintype_type6  0.960000    400   skintype  0.016"
      ],
      "text/html": "<div>\n<style scoped>\n    .dataframe tbody tr th:only-of-type {\n        vertical-align: middle;\n    }\n\n    .dataframe tbody tr th {\n        vertical-align: top;\n    }\n\n    .dataframe thead th {\n        text-align: right;\n    }\n</style>\n<table border=\"1\" class=\"dataframe\">\n  <thead>\n    <tr style=\"text-align: right;\">\n      <th></th>\n      <th>attribute_name</th>\n      <th>acc</th>\n      <th>size</th>\n      <th>attribute</th>\n      <th>Ratio</th>\n    </tr>\n  </thead>\n  <tbody>\n    <tr>\n      <th>0</th>\n      <td>eye_narrow</td>\n      <td>0.952485</td>\n      <td>2750</td>\n      <td>eye</td>\n      <td>0.110</td>\n    </tr>\n    <tr>\n      <th>1</th>\n      <td>eye_normal</td>\n      <td>0.956959</td>\n      <td>22250</td>\n      <td>eye</td>\n      <td>0.890</td>\n    </tr>\n    <tr>\n      <th>2</th>\n      <td>haircolor_black</td>\n      <td>0.959776</td>\n      <td>7450</td>\n      <td>haircolor</td>\n      <td>0.298</td>\n    </tr>\n    <tr>\n      <th>3</th>\n      <td>haircolor_blonde</td>\n      <td>0.949676</td>\n      <td>5650</td>\n      <td>haircolor</td>\n      <td>0.226</td>\n    </tr>\n    <tr>\n      <th>4</th>\n      <td>haircolor_brown</td>\n      <td>0.953723</td>\n      <td>8550</td>\n      <td>haircolor</td>\n      <td>0.342</td>\n    </tr>\n    <tr>\n      <th>5</th>\n      <td>haircolor_gray</td>\n      <td>0.967937</td>\n      <td>3150</td>\n      <td>haircolor</td>\n      <td>0.126</td>\n    </tr>\n    <tr>\n      <th>6</th>\n      <td>haircolor_red</td>\n      <td>0.961667</td>\n      <td>200</td>\n      <td>haircolor</td>\n      <td>0.008</td>\n    </tr>\n    <tr>\n      <th>7</th>\n      <td>hairtype_bald</td>\n      <td>0.970952</td>\n      <td>700</td>\n      <td>hairtype</td>\n      <td>0.028</td>\n    </tr>\n    <tr>\n      <th>8</th>\n      <td>hairtype_curly</td>\n      <td>0.950000</td>\n      <td>1100</td>\n      <td>hairtype</td>\n      <td>0.044</td>\n    </tr>\n    <tr>\n      <th>9</th>\n      <td>hairtype_straight</td>\n      <td>0.958813</td>\n      <td>15450</td>\n      <td>hairtype</td>\n      <td>0.618</td>\n    </tr>\n    <tr>\n      <th>10</th>\n      <td>hairtype_wavy</td>\n      <td>0.951398</td>\n      <td>7750</td>\n      <td>hairtype</td>\n      <td>0.310</td>\n    </tr>\n    <tr>\n      <th>11</th>\n      <td>lips_big</td>\n      <td>0.947981</td>\n      <td>6850</td>\n      <td>lips</td>\n      <td>0.274</td>\n    </tr>\n    <tr>\n      <th>12</th>\n      <td>lips_small</td>\n      <td>0.959669</td>\n      <td>18150</td>\n      <td>lips</td>\n      <td>0.726</td>\n    </tr>\n    <tr>\n      <th>13</th>\n      <td>nose_narrow</td>\n      <td>0.957092</td>\n      <td>14100</td>\n      <td>nose</td>\n      <td>0.564</td>\n    </tr>\n    <tr>\n      <th>14</th>\n      <td>nose_wide</td>\n      <td>0.955657</td>\n      <td>10900</td>\n      <td>nose</td>\n      <td>0.436</td>\n    </tr>\n    <tr>\n      <th>15</th>\n      <td>skintype_type1</td>\n      <td>0.928333</td>\n      <td>800</td>\n      <td>skintype</td>\n      <td>0.032</td>\n    </tr>\n    <tr>\n      <th>16</th>\n      <td>skintype_type2</td>\n      <td>0.956667</td>\n      <td>9800</td>\n      <td>skintype</td>\n      <td>0.392</td>\n    </tr>\n    <tr>\n      <th>17</th>\n      <td>skintype_type3</td>\n      <td>0.956417</td>\n      <td>10700</td>\n      <td>skintype</td>\n      <td>0.428</td>\n    </tr>\n    <tr>\n      <th>18</th>\n      <td>skintype_type4</td>\n      <td>0.962639</td>\n      <td>2400</td>\n      <td>skintype</td>\n      <td>0.096</td>\n    </tr>\n    <tr>\n      <th>19</th>\n      <td>skintype_type5</td>\n      <td>0.961852</td>\n      <td>900</td>\n      <td>skintype</td>\n      <td>0.036</td>\n    </tr>\n    <tr>\n      <th>20</th>\n      <td>skintype_type6</td>\n      <td>0.960000</td>\n      <td>400</td>\n      <td>skintype</td>\n      <td>0.016</td>\n    </tr>\n  </tbody>\n</table>\n</div>"
     },
     "metadata": {},
     "execution_count": 49
    }
   ],
   "source": [
    "results"
   ]
  },
  {
   "cell_type": "code",
   "execution_count": 57,
   "metadata": {
    "execution": {
     "iopub.execute_input": "2021-01-11T21:33:04.520298Z",
     "iopub.status.busy": "2021-01-11T21:33:04.519660Z",
     "iopub.status.idle": "2021-01-11T21:33:04.526399Z",
     "shell.execute_reply": "2021-01-11T21:33:04.525987Z",
     "shell.execute_reply.started": "2021-01-11T21:33:04.520219Z"
    }
   },
   "outputs": [
    {
     "output_type": "execute_result",
     "data": {
      "text/plain": [
       "(0.07166666666666666, 0.0290476190476191)"
      ]
     },
     "metadata": {},
     "execution_count": 57
    }
   ],
   "source": [
    "(1.0-results.acc.values.min()),(1-results.acc.values.max())"
   ]
  },
  {
   "cell_type": "code",
   "execution_count": 60,
   "metadata": {
    "execution": {
     "iopub.execute_input": "2021-01-11T21:25:40.890886Z",
     "iopub.status.busy": "2021-01-11T21:25:40.890723Z",
     "iopub.status.idle": "2021-01-11T21:25:40.907471Z",
     "shell.execute_reply": "2021-01-11T21:25:40.906954Z",
     "shell.execute_reply.started": "2021-01-11T21:25:40.890867Z"
    }
   },
   "outputs": [
    {
     "output_type": "execute_result",
     "data": {
      "text/plain": [
       "   Attribute Category Ratio (%) Accuracy (%) Attribute Category(%)  Ratio  \\\n",
       "0              Type1       3.20        92.83           Narrow Nose  56.40   \n",
       "1            Big Lips     27.40        94.80        Straight Hair   61.80   \n",
       "2        Blonde Hair      22.60        94.97            Small Lips  72.60   \n",
       "3         Curly Hair       4.40        95.00           Black Hair   29.80   \n",
       "4          Wavy Hair      31.00        95.14                Type6    1.60   \n",
       "5          Narrow Eye     11.00        95.25             Red Hair    0.80   \n",
       "6         Brown Hair      34.20        95.37                Type5    3.60   \n",
       "7           Wide Nose     43.60        95.57                Type4    9.60   \n",
       "8              Type3      42.80        95.64            Gray Hair   12.60   \n",
       "9              Type2      39.20        95.67            Bald Hair    2.80   \n",
       "10         Normal Eye     89.00        95.70                   NaN    NaN   \n",
       "\n",
       "   Accuracy(%)  \n",
       "0        95.71  \n",
       "1        95.88  \n",
       "2        95.97  \n",
       "3        95.98  \n",
       "4        96.00  \n",
       "5        96.17  \n",
       "6        96.19  \n",
       "7        96.26  \n",
       "8        96.79  \n",
       "9        97.10  \n",
       "10         NaN  "
      ],
      "text/html": "<div>\n<style scoped>\n    .dataframe tbody tr th:only-of-type {\n        vertical-align: middle;\n    }\n\n    .dataframe tbody tr th {\n        vertical-align: top;\n    }\n\n    .dataframe thead th {\n        text-align: right;\n    }\n</style>\n<table border=\"1\" class=\"dataframe\">\n  <thead>\n    <tr style=\"text-align: right;\">\n      <th></th>\n      <th>Attribute Category</th>\n      <th>Ratio (%)</th>\n      <th>Accuracy (%)</th>\n      <th>Attribute Category(%)</th>\n      <th>Ratio</th>\n      <th>Accuracy(%)</th>\n    </tr>\n  </thead>\n  <tbody>\n    <tr>\n      <th>0</th>\n      <td>Type1</td>\n      <td>3.20</td>\n      <td>92.83</td>\n      <td>Narrow Nose</td>\n      <td>56.40</td>\n      <td>95.71</td>\n    </tr>\n    <tr>\n      <th>1</th>\n      <td>Big Lips</td>\n      <td>27.40</td>\n      <td>94.80</td>\n      <td>Straight Hair</td>\n      <td>61.80</td>\n      <td>95.88</td>\n    </tr>\n    <tr>\n      <th>2</th>\n      <td>Blonde Hair</td>\n      <td>22.60</td>\n      <td>94.97</td>\n      <td>Small Lips</td>\n      <td>72.60</td>\n      <td>95.97</td>\n    </tr>\n    <tr>\n      <th>3</th>\n      <td>Curly Hair</td>\n      <td>4.40</td>\n      <td>95.00</td>\n      <td>Black Hair</td>\n      <td>29.80</td>\n      <td>95.98</td>\n    </tr>\n    <tr>\n      <th>4</th>\n      <td>Wavy Hair</td>\n      <td>31.00</td>\n      <td>95.14</td>\n      <td>Type6</td>\n      <td>1.60</td>\n      <td>96.00</td>\n    </tr>\n    <tr>\n      <th>5</th>\n      <td>Narrow Eye</td>\n      <td>11.00</td>\n      <td>95.25</td>\n      <td>Red Hair</td>\n      <td>0.80</td>\n      <td>96.17</td>\n    </tr>\n    <tr>\n      <th>6</th>\n      <td>Brown Hair</td>\n      <td>34.20</td>\n      <td>95.37</td>\n      <td>Type5</td>\n      <td>3.60</td>\n      <td>96.19</td>\n    </tr>\n    <tr>\n      <th>7</th>\n      <td>Wide Nose</td>\n      <td>43.60</td>\n      <td>95.57</td>\n      <td>Type4</td>\n      <td>9.60</td>\n      <td>96.26</td>\n    </tr>\n    <tr>\n      <th>8</th>\n      <td>Type3</td>\n      <td>42.80</td>\n      <td>95.64</td>\n      <td>Gray Hair</td>\n      <td>12.60</td>\n      <td>96.79</td>\n    </tr>\n    <tr>\n      <th>9</th>\n      <td>Type2</td>\n      <td>39.20</td>\n      <td>95.67</td>\n      <td>Bald Hair</td>\n      <td>2.80</td>\n      <td>97.10</td>\n    </tr>\n    <tr>\n      <th>10</th>\n      <td>Normal Eye</td>\n      <td>89.00</td>\n      <td>95.70</td>\n      <td>NaN</td>\n      <td>NaN</td>\n      <td>NaN</td>\n    </tr>\n  </tbody>\n</table>\n</div>"
     },
     "metadata": {},
     "execution_count": 60
    }
   ],
   "source": [
    "# print(results[['feature_name','acc']].to_latex())\n",
    "results[\"Ratio\"] = results[\"Ratio\"].apply(lambda x: f\"{100*x:.2f}\")\n",
    "results[\"Acc\"] = results[\"acc\"].apply(lambda x: f\"{100*x:.2f}\")\n",
    "\n",
    "results[\"attribute_name\"] = results[\"attribute_name\"].str.replace(\"skintype\", \"\")\n",
    "results[\"attribute_name\"] = results[\"attribute_name\"].str.replace(\"haircolor\", \"hair \")\n",
    "results[\"attribute_name\"] = results[\"attribute_name\"].str.replace(\"hairtype\", \"hair \")\n",
    "results[\"attribute_name\"] = results[\"attribute_name\"].str.title()\n",
    "results[\"attribute_name\"] = results[\"attribute_name\"].apply(\n",
    "    lambda x: \" \".join(x.split(\"_\")[::-1])\n",
    ")\n",
    "results = results.sort_values(by='Acc')\n",
    "attribute_res = results[[\"attribute_name\",\"Ratio\", \"Acc\"]]\n",
    "\n",
    "attribute_res = pd.concat(\n",
    "    [\n",
    "        attribute_res.iloc[:11].reset_index(drop=True),\n",
    "        attribute_res.iloc[11:].reset_index(drop=True),\n",
    "        \n",
    "        \n",
    "    ],\n",
    "    axis=1,\n",
    "    ignore_index=True,\n",
    ")\n",
    "attribute_res.columns = [\"Attribute Category\", \"Ratio (%)\",\"Accuracy (%)\", \"Attribute Category(%)\", \"Ratio\",\"Accuracy(%)\"]\n",
    "attribute_res"
   ]
  },
  {
   "cell_type": "code",
   "execution_count": 52,
   "metadata": {
    "execution": {
     "iopub.execute_input": "2021-01-11T21:25:43.888173Z",
     "iopub.status.busy": "2021-01-11T21:25:43.888033Z",
     "iopub.status.idle": "2021-01-11T21:25:43.893347Z",
     "shell.execute_reply": "2021-01-11T21:25:43.892681Z",
     "shell.execute_reply.started": "2021-01-11T21:25:43.888157Z"
    }
   },
   "outputs": [
    {
     "output_type": "stream",
     "name": "stdout",
     "text": [
      "\\begin{table}\n\\centering\n\\caption{Table Caption}\n\\label{tab:fi1}\n\\begin{tabular}{llllll}\n\\toprule\nAttribute Category & Accuracy (\\%) & Ratio (\\%) & Attribute Category(\\%) &  Ratio & Accuracy(\\%) \\\\\n\\midrule\n            Type1  &         3.2\\% &     92.8\\% &                Type2  &  39.2\\% &       95.7\\% \\\\\n          Big Lips &        27.4\\% &     94.8\\% &        Straight Hair  &  61.8\\% &       95.9\\% \\\\\n      Blonde Hair  &        22.6\\% &     95.0\\% &           Black Hair  &  29.8\\% &       96.0\\% \\\\\n       Curly Hair  &         4.4\\% &     95.0\\% &            Small Lips &  72.6\\% &       96.0\\% \\\\\n        Wavy Hair  &        31.0\\% &     95.1\\% &                Type6  &   1.6\\% &       96.0\\% \\\\\n        Narrow Eye &        11.0\\% &     95.2\\% &             Red Hair  &   0.8\\% &       96.2\\% \\\\\n       Brown Hair  &        34.2\\% &     95.4\\% &                Type5  &   3.6\\% &       96.2\\% \\\\\n         Wide Nose &        43.6\\% &     95.6\\% &                Type4  &   9.6\\% &       96.3\\% \\\\\n            Type3  &        42.8\\% &     95.6\\% &            Gray Hair  &  12.6\\% &       96.8\\% \\\\\n       Narrow Nose &        56.4\\% &     95.7\\% &            Bald Hair  &   2.8\\% &       97.1\\% \\\\\n        Normal Eye &        89.0\\% &     95.7\\% &                       &        &             \\\\\n\\bottomrule\n\\end{tabular}\n\\end{table}\n\n"
     ]
    }
   ],
   "source": [
    "print(\n",
    "    attribute_res.to_latex(\n",
    "        index=False, caption=\"Table Caption\", label=\"tab:fi1\", na_rep=\"\"\n",
    "    )\n",
    ")"
   ]
  },
  {
   "cell_type": "code",
   "execution_count": 20,
   "metadata": {
    "execution": {
     "iopub.execute_input": "2021-01-07T16:25:39.182364Z",
     "iopub.status.busy": "2021-01-07T16:25:39.182233Z",
     "iopub.status.idle": "2021-01-07T16:25:39.202833Z",
     "shell.execute_reply": "2021-01-07T16:25:39.202499Z",
     "shell.execute_reply.started": "2021-01-07T16:25:39.182349Z"
    }
   },
   "outputs": [
    {
     "name": "stdout",
     "output_type": "stream",
     "text": [
      "<class 'list'> <class 'list'>\n",
      "<class 'list'> <class 'numpy.ndarray'>\n",
      "Overall Accuracy: 0.98984\n",
      "<class 'list'> <class 'numpy.ndarray'>\n",
      "Overall Accuracy: 0.98184\n",
      "<class 'list'> <class 'numpy.ndarray'>\n",
      "Overall Accuracy: 0.96732\n",
      "<class 'list'> <class 'numpy.ndarray'>\n",
      "Overall Accuracy: 0.94552\n",
      "<class 'list'> <class 'numpy.ndarray'>\n",
      "Overall Accuracy: 0.93396\n"
     ]
    }
   ],
   "source": [
    "print(type(all_predictions), type(y_s))\n",
    "for y_test, y_pred in zip(y_s, all_predictions):\n",
    "    print(type(y_pred), type(y_test))\n",
    "    y_pred = np.array(list(chain(*y_pred)))\n",
    "    print(\"Overall Accuracy:\", accuracy_score(y_test, y_pred))"
   ]
  },
  {
   "cell_type": "code",
   "execution_count": 23,
   "metadata": {
    "execution": {
     "iopub.execute_input": "2021-01-06T15:49:40.821182Z",
     "iopub.status.busy": "2021-01-06T15:49:40.820473Z",
     "iopub.status.idle": "2021-01-06T15:49:41.355366Z",
     "shell.execute_reply": "2021-01-06T15:49:41.354934Z",
     "shell.execute_reply.started": "2021-01-06T15:49:40.821094Z"
    }
   },
   "outputs": [
    {
     "name": "stdout",
     "output_type": "stream",
     "text": [
      "0.88497335 -0.0055923657 0.8592094\n",
      "0.045853145 -0.00028270765 0.044193346\n",
      "Data is ready! (169396, 512) (169396, 512)\n"
     ]
    }
   ],
   "source": [
    "feature_arr = np.asarray(features, dtype=np.float32)\n",
    "print(feature_arr[0][0], np.mean(feature_arr), np.std(feature_arr))\n",
    "feature_arr = preprocessing.normalize(feature_arr)\n",
    "print(feature_arr[0][0], np.mean(feature_arr), np.std(feature_arr))\n",
    "labels = list(map(lambda x: x.split(\"/\")[-2], path_arr))\n",
    "le = preprocessing.LabelEncoder()\n",
    "labels = le.fit_transform(labels)\n",
    "X = feature_arr\n",
    "y = labels\n",
    "\n",
    "# X_train, X_test, y_train, y_test = train_test_split(X, y, test_size=0.2, random_state=1)\n",
    "\n",
    "print(\"Data is ready!\", X.shape, X.shape)"
   ]
  },
  {
   "cell_type": "code",
   "execution_count": 4,
   "metadata": {
    "execution": {
     "iopub.execute_input": "2021-01-06T13:26:18.382954Z",
     "iopub.status.busy": "2021-01-06T13:26:18.382320Z",
     "iopub.status.idle": "2021-01-06T13:45:55.404241Z",
     "shell.execute_reply": "2021-01-06T13:45:55.403757Z",
     "shell.execute_reply.started": "2021-01-06T13:26:18.382871Z"
    }
   },
   "outputs": [
    {
     "name": "stdout",
     "output_type": "stream",
     "text": [
      "TRAIN: <class 'numpy.ndarray'> TEST: <class 'numpy.ndarray'>\n",
      "Training is completed.\n"
     ]
    }
   ],
   "source": [
    "sss = StratifiedShuffleSplit(n_splits=1, test_size=0.1, random_state=0)\n",
    "for train_index, test_index in sss.split(X, y):\n",
    "    print(\"TRAIN:\", type(train_index), \"TEST:\", type(test_index))\n",
    "    X_train, X_test = X[train_index], X[test_index]\n",
    "    y_train, y_test = y[train_index], y[test_index]\n",
    "    svm_model_linear = SVC(kernel=\"linear\", C=20).fit(X_train, y_train)\n",
    "    print(\"Training is completed.\")"
   ]
  },
  {
   "cell_type": "code",
   "execution_count": 27,
   "metadata": {
    "execution": {
     "iopub.execute_input": "2021-01-06T16:08:19.103697Z",
     "iopub.status.busy": "2021-01-06T16:08:19.103542Z",
     "iopub.status.idle": "2021-01-06T16:08:19.109147Z",
     "shell.execute_reply": "2021-01-06T16:08:19.105443Z",
     "shell.execute_reply.started": "2021-01-06T16:08:19.103666Z"
    }
   },
   "outputs": [],
   "source": [
    "# import datetime\n",
    "# timestr = datetime.datetime.now().isoformat().replace(\":\", \".\")\n",
    "# svm_model_file = f\"svm_model_{timestr}\"\n",
    "# svm_model_linear.save_to_file(svm_model_file)\n",
    "# print(f\"Saved model to: {svm_model_file}\")"
   ]
  },
  {
   "cell_type": "code",
   "execution_count": 28,
   "metadata": {
    "execution": {
     "iopub.execute_input": "2021-01-06T16:08:22.883790Z",
     "iopub.status.busy": "2021-01-06T16:08:22.883137Z",
     "iopub.status.idle": "2021-01-06T16:16:15.588232Z",
     "shell.execute_reply": "2021-01-06T16:16:15.587728Z",
     "shell.execute_reply.started": "2021-01-06T16:08:22.883703Z"
    }
   },
   "outputs": [
    {
     "name": "stdout",
     "output_type": "stream",
     "text": [
      "Starting prediction (The computer can be unresponsive during the prediction).\n",
      "Processed: 24001: 100%|██████████| 25000/25000 [07:52<00:00, 52.89it/s]\n"
     ]
    }
   ],
   "source": [
    "import sys\n",
    "from itertools import chain\n",
    "\n",
    "from tqdm import tqdm\n",
    "\n",
    "print(\"Starting prediction (The computer can be unresponsive during the prediction).\")\n",
    "\n",
    "TEST_BATCH_SIZE = 1000\n",
    "preds = []\n",
    "with tqdm(total=X_test.shape[0], file=sys.stdout) as pbar:\n",
    "    for i in range(0, X_test.shape[0], TEST_BATCH_SIZE):\n",
    "        X_test_batch = X_test[i : i + TEST_BATCH_SIZE]\n",
    "        pred = svm_model_linear.predict(X_test_batch)\n",
    "        preds.append(pred)\n",
    "        # update tqdm\n",
    "        pbar.set_description(\"Processed: %d\" % (1 + i))\n",
    "        pbar.update(TEST_BATCH_SIZE)"
   ]
  },
  {
   "cell_type": "code",
   "execution_count": 29,
   "metadata": {
    "execution": {
     "iopub.execute_input": "2021-01-06T16:16:37.176608Z",
     "iopub.status.busy": "2021-01-06T16:16:37.176146Z",
     "iopub.status.idle": "2021-01-06T16:16:37.185160Z",
     "shell.execute_reply": "2021-01-06T16:16:37.184640Z",
     "shell.execute_reply.started": "2021-01-06T16:16:37.176551Z"
    }
   },
   "outputs": [
    {
     "name": "stdout",
     "output_type": "stream",
     "text": [
      "Overall Accuracy: 0.99148\n"
     ]
    }
   ],
   "source": [
    "y_pred = np.array(list(chain(*preds)))\n",
    "print(\"Overall Accuracy:\", accuracy_score(y_test, y_pred))"
   ]
  },
  {
   "cell_type": "code",
   "execution_count": 57,
   "metadata": {
    "execution": {
     "iopub.execute_input": "2021-01-06T22:29:09.941228Z",
     "iopub.status.busy": "2021-01-06T22:29:09.941082Z",
     "iopub.status.idle": "2021-01-06T22:29:09.943850Z",
     "shell.execute_reply": "2021-01-06T22:29:09.943380Z",
     "shell.execute_reply.started": "2021-01-06T22:29:09.941212Z"
    }
   },
   "outputs": [],
   "source": [
    "test_ixs[\"y_pred\"] = y_pred.astype(np.int)\n",
    "test_ixs[\"y_test\"] = y_test\n",
    "test_ixs = test_ixs.rename(columns={\"subject\": \"Class_ID\"})\n",
    "test_data = test_ixs.merge(vgg_test, on=\"Class_ID\", how=\"left\")"
   ]
  },
  {
   "cell_type": "code",
   "execution_count": 64,
   "metadata": {
    "execution": {
     "iopub.execute_input": "2021-01-06T22:32:51.102089Z",
     "iopub.status.busy": "2021-01-06T22:32:51.101951Z",
     "iopub.status.idle": "2021-01-06T22:32:51.154106Z",
     "shell.execute_reply": "2021-01-06T22:32:51.153566Z",
     "shell.execute_reply.started": "2021-01-06T22:32:51.102074Z"
    }
   },
   "outputs": [
    {
     "name": "stdout",
     "output_type": "stream",
     "text": [
      "Group initilization!\n",
      "skintype type1 : 0.99875 (800, 19)\n",
      "skintype type2 : 0.9933673469387755 (9800, 19)\n",
      "skintype type3 : 0.9909345794392523 (10700, 19)\n",
      "skintype type4 : 0.9816666666666667 (2400, 19)\n",
      "skintype type5 : 0.9966666666666667 (900, 19)\n",
      "skintype type6 : 0.9925 (400, 19)\n",
      "hairtype straight : 0.9905501618122977 (15450, 19)\n",
      "hairtype wavy : 0.9930322580645161 (7750, 19)\n",
      "hairtype bald : 0.9914285714285714 (700, 19)\n",
      "hairtype curly : 0.9936363636363637 (1100, 19)\n",
      "haircolor red : 0.995 (200, 19)\n",
      "haircolor black : 0.9914093959731544 (7450, 19)\n",
      "haircolor grey : 0.9873015873015873 (3150, 19)\n",
      "haircolor brown : 0.991812865497076 (8550, 19)\n",
      "haircolor blonde : 0.9932743362831858 (5650, 19)\n",
      "lips small : 0.9921763085399449 (18150, 19)\n",
      "lips big : 0.9896350364963503 (6850, 19)\n",
      "eye normal : 0.9918651685393258 (22250, 19)\n",
      "eye narrow : 0.9883636363636363 (2750, 19)\n",
      "nose wide : 0.9935779816513761 (10900, 19)\n",
      "nose narrow : 0.9898581560283688 (14100, 19)\n"
     ]
    }
   ],
   "source": [
    "attribute_map = [\n",
    "    {\"skintype\": [\"type1\", \"type2\", \"type3\", \"type4\", \"type5\", \"type6\"]},\n",
    "    {\"hairtype\": [\"straight\", \"wavy\", \"bald\", \"curly\"]},\n",
    "    {\"haircolor\": [\"red\", \"black\", \"grey\", \"brown\", \"blonde\"]},\n",
    "    {\"lips\": [\"small\", \"big\"]},\n",
    "    {\"eye\": [\"normal\", \"narrow\"]},\n",
    "    {\"nose\": [\"wide\", \"narrow\"]},\n",
    "]\n",
    "print(\"Group initilization!\")\n",
    "for attr in attribute_map:\n",
    "    # for one value of one attribute\n",
    "    for key, value in attr.items():\n",
    "        for val in value:\n",
    "            subgroup = test_data[test_data[key] == val]\n",
    "            print(\n",
    "                key,\n",
    "                val,\n",
    "                \":\",\n",
    "                accuracy_score(subgroup[\"y_test\"], subgroup[\"y_pred\"]),\n",
    "                subgroup.shape,\n",
    "            )"
   ]
  },
  {
   "cell_type": "code",
   "execution_count": null,
   "metadata": {},
   "outputs": [],
   "source": [
    "# y_pred = svm_model_linear.predict(X_test)"
   ]
  },
  {
   "cell_type": "code",
   "execution_count": null,
   "metadata": {},
   "outputs": [],
   "source": [
    "# features = np.load('features/unlearn_races_r50_feat_05ep.npz')\n",
    "# meta_data = pd.read_csv('metadata/VGGFace2_200_Subjects_Test_Images.csv')"
   ]
  },
  {
   "cell_type": "code",
   "execution_count": null,
   "metadata": {},
   "outputs": [],
   "source": [
    "# features = np.load('../FeatureEncodingsRFW/senet50_ft_features.npy')\n",
    "# train_ixs = pd.read_csv('../train_test_split/rfwtest_train_indexes.csv')\n",
    "# test_ixs = pd.read_csv('../train_test_split/rfwtest_test_indexes.csv')"
   ]
  },
  {
   "cell_type": "code",
   "execution_count": null,
   "metadata": {},
   "outputs": [],
   "source": [
    "features = features[\"arr_0\"]"
   ]
  },
  {
   "cell_type": "code",
   "execution_count": null,
   "metadata": {},
   "outputs": [],
   "source": [
    "feature_arr = np.asarray(features[:][:, :-1], dtype=np.float64)\n",
    "path_arr = features[:][:, -1]\n",
    "\n",
    "labels = list(map(lambda x: x.split(\"/\")[0], path_arr))\n",
    "le = preprocessing.LabelEncoder()\n",
    "labels = le.fit_transform(labels)\n",
    "X = pd.DataFrame(feature_arr)\n",
    "y = pd.Series(labels)\n",
    "X_train, X_test, y_train, y_test = train_test_split(X, y, test_size=0.2, random_state=1)\n",
    "print(\"SVM!\")\n",
    "\n",
    "svm_model_linear = SVC(kernel=\"linear\", C=1).fit(X_train, y_train)\n",
    "y_pred = svm_model_linear.predict(X_test)\n",
    "print(\"Overall Accuracy:\", accuracy_score(y_test.values, y_pred))\n",
    "\n",
    "print(\"Group initilization!\")\n",
    "test_pathes = path_arr[y_test.index.values]\n",
    "for race in [\"African\", \"Asian\", \"Caucasian\", \"Indian\"]:\n",
    "    for gender in [\"m\", \"f\"]:\n",
    "        main_group = meta_data[\n",
    "            (meta_data.race == race)\n",
    "            & (meta_data.gender == gender)\n",
    "            & (meta_data.generated_version == \"original\")\n",
    "        ]\n",
    "        group_file = main_group.filename.values\n",
    "        indexes = []\n",
    "        for el in group_file:\n",
    "            loc = np.argwhere(test_pathes == el)\n",
    "            if loc.size != 0:\n",
    "                indexes.append(int(loc[0][0]))\n",
    "        if len(indexes) > 0:\n",
    "            indexes = np.asarray(indexes)\n",
    "            print(race, gender)\n",
    "            print(\n",
    "                \" accuracy:%d %.3f\"\n",
    "                % (\n",
    "                    len(y_test.values[indexes]),\n",
    "                    accuracy_score(y_test.values[indexes], y_pred[indexes]),\n",
    "                )\n",
    "            )"
   ]
  },
  {
   "cell_type": "code",
   "execution_count": null,
   "metadata": {},
   "outputs": [],
   "source": [
    "from sklearn.model_selection import GridSearchCV\n",
    "\n",
    "feature_arr = np.asarray(features[:][:, :-1], dtype=np.float64)\n",
    "path_arr = features[:][:, -1]\n",
    "\n",
    "labels = list(map(lambda x: x.split(\"/\")[0], path_arr))\n",
    "le = preprocessing.LabelEncoder()\n",
    "labels = le.fit_transform(labels)\n",
    "X = pd.DataFrame(feature_arr)\n",
    "y = pd.Series(labels)\n",
    "param_grid = [\n",
    "    {\"C\": [1, 10, 100, 1000], \"kernel\": [\"linear\"]},\n",
    "    {\"C\": [1, 10, 100, 1000], \"gamma\": [0.001, 0.0001], \"kernel\": [\"rbf\"]},\n",
    "]\n",
    "X_train, X_test, y_train, y_test = train_test_split(X, y, test_size=0.2, random_state=1)\n",
    "grid_search = GridSearchCV(SVC(), param_grid, cv=2)\n",
    "svm_model = grid_search.fit(X_train, y_train)\n",
    "print(grid_search.best_params_)\n",
    "\n",
    "# y_pred = svm_model.predict(X_test)\n",
    "# print('Overall Accuracy:',accuracy_score(y_test.values, y_pred))\n",
    "\n",
    "# print('Group initilization!')\n",
    "# test_pathes = path_arr[y_test.index.values]\n",
    "# for race in ['African','Asian','Caucasian', 'Indian']:\n",
    "#     for gender in ['f','m']:\n",
    "#         main_group = meta_data[(meta_data.race == race) & (meta_data.gender== gender) & (meta_data.generated_version== 'original') ]\n",
    "#         group_file = main_group.filename.values\n",
    "#         indexes = []\n",
    "#         for el in group_file:\n",
    "#             loc = np.argwhere(test_pathes==el)\n",
    "#             if loc.size != 0:\n",
    "#                 indexes.append(int(loc[0][0]))\n",
    "#         if len(indexes)>0:\n",
    "#             indexes = np.asarray(indexes)\n",
    "#             print(race,gender)\n",
    "#             print(' accuracy:%d %.3f'%(len(y_test.values[indexes]), accuracy_score(y_test.values[indexes], y_pred[indexes])))"
   ]
  },
  {
   "cell_type": "markdown",
   "metadata": {},
   "source": []
  },
  {
   "cell_type": "markdown",
   "metadata": {},
   "source": [
    "SVM!\n",
    "\n",
    "Overall Accuracy: 0.5139621028636558\n",
    "\n",
    "Group initilization!\n",
    "African m\n",
    " accuracy:1551 0.454\n",
    "African f\n",
    " accuracy:1953 0.473\n",
    "Asian m\n",
    " accuracy:1610 0.496\n",
    "Asian f\n",
    " accuracy:1516 0.383\n",
    "Caucasian m\n",
    " accuracy:1797 0.559\n",
    "Caucasian f\n",
    " accuracy:1959 0.590\n",
    "Indian m\n",
    " accuracy:1964 0.615\n",
    "Indian f\n",
    " accuracy:1688 0.498"
   ]
  },
  {
   "cell_type": "code",
   "execution_count": null,
   "metadata": {},
   "outputs": [],
   "source": []
  }
 ],
 "metadata": {
  "kernelspec": {
   "display_name": "svm",
   "language": "python",
   "name": "svm"
  },
  "language_info": {
   "codemirror_mode": {
    "name": "ipython",
    "version": 3
   },
   "file_extension": ".py",
   "mimetype": "text/x-python",
   "name": "python",
   "nbconvert_exporter": "python",
   "pygments_lexer": "ipython3",
   "version": "3.7.9-final"
  }
 },
 "nbformat": 4,
 "nbformat_minor": 4
}